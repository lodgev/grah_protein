{
 "cells": [
  {
   "cell_type": "code",
   "execution_count": 1,
   "id": "initial_id",
   "metadata": {
    "ExecuteTime": {
     "end_time": "2025-03-14T13:46:37.536295Z",
     "start_time": "2025-03-14T13:46:34.854183Z"
    },
    "collapsed": true
   },
   "outputs": [
    {
     "name": "stdout",
     "output_type": "stream",
     "text": [
      "<class 'pandas.core.frame.DataFrame'>\n",
      "RangeIndex: 205003 entries, 0 to 205002\n",
      "Data columns (total 8 columns):\n",
      " #   Column         Non-Null Count   Dtype \n",
      "---  ------         --------------   ----- \n",
      " 0   Entry          205003 non-null  object\n",
      " 1   Entry Name     205003 non-null  object\n",
      " 2   Protein names  205003 non-null  object\n",
      " 3   Gene Names     165804 non-null  object\n",
      " 4   Organism       205003 non-null  object\n",
      " 5   Sequence       205003 non-null  object\n",
      " 6   EC number      22557 non-null   object\n",
      " 7   InterPro       181534 non-null  object\n",
      "dtypes: object(8)\n",
      "memory usage: 12.5+ MB\n"
     ]
    },
    {
     "data": {
      "text/plain": [
       "(None,\n",
       "         Entry        Entry Name   \n",
       " 0  A0A024R1X5  A0A024R1X5_HUMAN  \\\n",
       " 1  A0A024R274  A0A024R274_HUMAN   \n",
       " 2  A0A024R324  A0A024R324_HUMAN   \n",
       " 3  A0A024R6A3  A0A024R6A3_HUMAN   \n",
       " 4  A0A024R7I7  A0A024R7I7_HUMAN   \n",
       " \n",
       "                                        Protein names       Gene Names   \n",
       " 0                                           Beclin-1  BECN1 hCG_16958  \\\n",
       " 1  Mothers against decapentaplegic homolog (MAD h...            SMAD4   \n",
       " 2  Epididymis secretory sperm binding protein (Ra...   RHOA hCG_20136   \n",
       " 3                           Presenilin (EC 3.4.23.-)            PSEN1   \n",
       " 4                          Ras-related protein Rab-3              NaN   \n",
       " \n",
       "                Organism                                           Sequence   \n",
       " 0  Homo sapiens (Human)  MEGSKTSNNSTMQVSFVCQRCSQPLKLDTSFKILDRVTIQELTAPL...  \\\n",
       " 1  Homo sapiens (Human)  MDNMSITNTPTSNDACLSIVHSLMCHRQGGESETFAKRAIESLVKK...   \n",
       " 2  Homo sapiens (Human)  MAAIRKKLVIVGDGACGKTCLLIVFSKDQFPEVYVPTVFENYVADI...   \n",
       " 3  Homo sapiens (Human)  MTELPAPLSYFQNAQMSEDNHLSNTVRSQNDNRERQEHNDRRSLGH...   \n",
       " 4  Homo sapiens (Human)  MASATDSRYGQKESSDQNFDYMFKILIIGNSSVGKTSFLFRYADDS...   \n",
       " \n",
       "   EC number                                           InterPro  \n",
       " 0       NaN  IPR007243;IPR038274;IPR041691;IPR040455;IPR029...  \n",
       " 1       NaN  IPR013790;IPR003619;IPR013019;IPR017855;IPR001...  \n",
       " 2       NaN           IPR027417;IPR005225;IPR001806;IPR003578;  \n",
       " 3  3.4.23.-           IPR002031;IPR001108;IPR006639;IPR042524;  \n",
       " 4       NaN  IPR027417;IPR037872;IPR005225;IPR001806;IPR050...  )"
      ]
     },
     "execution_count": 1,
     "metadata": {},
     "output_type": "execute_result"
    }
   ],
   "source": [
    "import pandas as pd\n",
    "\n",
    "# Load and inspect the data file provided by the user\n",
    "file_path = 'uniprotkb_AND_model_organism_9606_2025_02_07.tsv'\n",
    "data = pd.read_csv(file_path, sep='\\t')\n",
    "\n",
    "# Display basic information and first few rows of the dataset\n",
    "data_info = data.info()\n",
    "data_head = data.head()\n",
    "\n",
    "data_info, data_head\n"
   ]
  },
  {
   "cell_type": "code",
   "execution_count": 2,
   "id": "d75e071137cebdb4",
   "metadata": {
    "ExecuteTime": {
     "end_time": "2025-03-14T13:46:51.613268Z",
     "start_time": "2025-03-14T13:46:51.170393Z"
    }
   },
   "outputs": [
    {
     "data": {
      "text/html": [
       "<div>\n",
       "<style scoped>\n",
       "    .dataframe tbody tr th:only-of-type {\n",
       "        vertical-align: middle;\n",
       "    }\n",
       "\n",
       "    .dataframe tbody tr th {\n",
       "        vertical-align: top;\n",
       "    }\n",
       "\n",
       "    .dataframe thead th {\n",
       "        text-align: right;\n",
       "    }\n",
       "</style>\n",
       "<table border=\"1\" class=\"dataframe\">\n",
       "  <thead>\n",
       "    <tr style=\"text-align: right;\">\n",
       "      <th></th>\n",
       "      <th>Entry</th>\n",
       "      <th>Entry Name</th>\n",
       "      <th>Protein names</th>\n",
       "      <th>Gene Names</th>\n",
       "      <th>EC number</th>\n",
       "      <th>InterPro_list</th>\n",
       "    </tr>\n",
       "  </thead>\n",
       "  <tbody>\n",
       "    <tr>\n",
       "      <th>0</th>\n",
       "      <td>A0A024R1X5</td>\n",
       "      <td>A0A024R1X5_HUMAN</td>\n",
       "      <td>Beclin-1</td>\n",
       "      <td>BECN1 hCG_16958</td>\n",
       "      <td>NaN</td>\n",
       "      <td>[IPR007243, IPR038274, IPR041691, IPR040455, I...</td>\n",
       "    </tr>\n",
       "    <tr>\n",
       "      <th>1</th>\n",
       "      <td>A0A024R274</td>\n",
       "      <td>A0A024R274_HUMAN</td>\n",
       "      <td>Mothers against decapentaplegic homolog (MAD h...</td>\n",
       "      <td>SMAD4</td>\n",
       "      <td>NaN</td>\n",
       "      <td>[IPR013790, IPR003619, IPR013019, IPR017855, I...</td>\n",
       "    </tr>\n",
       "    <tr>\n",
       "      <th>2</th>\n",
       "      <td>A0A024R324</td>\n",
       "      <td>A0A024R324_HUMAN</td>\n",
       "      <td>Epididymis secretory sperm binding protein (Ra...</td>\n",
       "      <td>RHOA hCG_20136</td>\n",
       "      <td>NaN</td>\n",
       "      <td>[IPR027417, IPR005225, IPR001806, IPR003578]</td>\n",
       "    </tr>\n",
       "    <tr>\n",
       "      <th>3</th>\n",
       "      <td>A0A024R6A3</td>\n",
       "      <td>A0A024R6A3_HUMAN</td>\n",
       "      <td>Presenilin (EC 3.4.23.-)</td>\n",
       "      <td>PSEN1</td>\n",
       "      <td>3.4.23.-</td>\n",
       "      <td>[IPR002031, IPR001108, IPR006639, IPR042524]</td>\n",
       "    </tr>\n",
       "    <tr>\n",
       "      <th>4</th>\n",
       "      <td>A0A024R7I7</td>\n",
       "      <td>A0A024R7I7_HUMAN</td>\n",
       "      <td>Ras-related protein Rab-3</td>\n",
       "      <td>NaN</td>\n",
       "      <td>NaN</td>\n",
       "      <td>[IPR027417, IPR037872, IPR005225, IPR001806, I...</td>\n",
       "    </tr>\n",
       "  </tbody>\n",
       "</table>\n",
       "</div>"
      ],
      "text/plain": [
       "        Entry        Entry Name   \n",
       "0  A0A024R1X5  A0A024R1X5_HUMAN  \\\n",
       "1  A0A024R274  A0A024R274_HUMAN   \n",
       "2  A0A024R324  A0A024R324_HUMAN   \n",
       "3  A0A024R6A3  A0A024R6A3_HUMAN   \n",
       "4  A0A024R7I7  A0A024R7I7_HUMAN   \n",
       "\n",
       "                                       Protein names       Gene Names   \n",
       "0                                           Beclin-1  BECN1 hCG_16958  \\\n",
       "1  Mothers against decapentaplegic homolog (MAD h...            SMAD4   \n",
       "2  Epididymis secretory sperm binding protein (Ra...   RHOA hCG_20136   \n",
       "3                           Presenilin (EC 3.4.23.-)            PSEN1   \n",
       "4                          Ras-related protein Rab-3              NaN   \n",
       "\n",
       "  EC number                                      InterPro_list  \n",
       "0       NaN  [IPR007243, IPR038274, IPR041691, IPR040455, I...  \n",
       "1       NaN  [IPR013790, IPR003619, IPR013019, IPR017855, I...  \n",
       "2       NaN       [IPR027417, IPR005225, IPR001806, IPR003578]  \n",
       "3  3.4.23.-       [IPR002031, IPR001108, IPR006639, IPR042524]  \n",
       "4       NaN  [IPR027417, IPR037872, IPR005225, IPR001806, I...  "
      ]
     },
     "execution_count": 2,
     "metadata": {},
     "output_type": "execute_result"
    }
   ],
   "source": [
    "# Предобработка данных\n",
    "\n",
    "# Уберем записи без данных по доменам (InterPro)\n",
    "protein_data_clean = data.dropna(subset=['InterPro']).copy()\n",
    "\n",
    "# Конвертируем строки с доменами InterPro в списки для удобного дальнейшего анализа\n",
    "protein_data_clean['InterPro_list'] = protein_data_clean['InterPro'].apply(lambda x: x.strip(';').split(';'))\n",
    "\n",
    "# Оставим только нужные для дальнейших задач колонки (идентификатор, имя белка, список доменов, EC номер)\n",
    "protein_data_final = protein_data_clean[['Entry', 'Entry Name', 'Protein names', 'Gene Names', 'EC number', 'InterPro_list']]\n",
    "\n",
    "# Показать пример обработанных данных\n",
    "protein_data_final.head()\n"
   ]
  },
  {
   "cell_type": "code",
   "execution_count": null,
   "id": "13231ecbf0207628",
   "metadata": {
    "ExecuteTime": {
     "end_time": "2025-03-14T13:47:39.779555Z",
     "start_time": "2025-03-14T13:47:37.529527Z"
    }
   },
   "outputs": [
    {
     "name": "stderr",
     "output_type": "stream",
     "text": [
      "100%|██████████| 499500/499500 [00:00<00:00, 764926.20it/s]\n"
     ]
    },
    {
     "data": {
      "text/plain": [
       "{'Количество узлов': 1000, 'Количество рёбер': 3498}"
      ]
     },
     "execution_count": 5,
     "metadata": {},
     "output_type": "execute_result"
    }
   ],
   "source": [
    "import networkx as nx\n",
    "from itertools import combinations\n",
    "from tqdm import tqdm\n",
    "\n",
    "# Возьмём небольшую выборку данных для проверки подхода (первые 1000 белков)\n",
    "sample_data = protein_data_final.head(1000).reset_index(drop=True)\n",
    "\n",
    "# Инициализируем пустой граф\n",
    "protein_graph = nx.Graph()\n",
    "\n",
    "# Добавляем узлы (белки)\n",
    "for idx, row in sample_data.iterrows():\n",
    "    protein_graph.add_node(row['Entry'], \n",
    "                        entry_name=row['Entry Name'],\n",
    "                        protein_names=row['Protein names'],\n",
    "                        gene_names=row['Gene Names'],\n",
    "                        ec_number=row['EC number'],\n",
    "                        interpro_domains=set(row['InterPro_list']))\n",
    "\n",
    "# Рассчитываем коэффициент Жаккара и добавляем ребра\n",
    "# (для примера используем порог сходства 0.3)\n",
    "similarity_threshold = 0.3\n",
    "\n",
    "# Проходимся по комбинациям узлов и считаем сходство\n",
    "for (u, v) in tqdm(combinations(sample_data['Entry'], 2), total=(len(sample_data)*(len(sample_data)-1)//2)):\n",
    "    domains_u = protein_graph.nodes[u]['interpro_domains']\n",
    "    domains_v = protein_graph.nodes[v]['interpro_domains']\n",
    "    \n",
    "    intersection = len(domains_u.intersection(domains_v))\n",
    "    union = len(domains_u.union(domains_v))\n",
    "    jaccard_similarity = intersection / union if union else 0\n",
    "\n",
    "    if jaccard_similarity >= similarity_threshold:\n",
    "        protein_graph.add_edge(u, v, weight=jaccard_similarity)\n",
    "\n",
    "# Проверим краткую статистику по построенному графу\n",
    "graph_info = {\n",
    "    'Количество узлов': protein_graph.number_of_nodes(),\n",
    "    'Количество рёбер': protein_graph.number_of_edges()\n",
    "}\n",
    "\n",
    "graph_info\n"
   ]
  },
  {
   "cell_type": "code",
   "execution_count": 7,
   "id": "3aa6368ffefc77d",
   "metadata": {
    "ExecuteTime": {
     "end_time": "2025-03-14T13:53:29.092139Z",
     "start_time": "2025-03-14T13:53:17.136966Z"
    }
   },
   "outputs": [],
   "source": [
    "from neo4j import GraphDatabase\n",
    "import networkx as nx\n",
    "\n",
    "# Настройки подключения к Neo4j\n",
    "URI = \"bolt://localhost:7687\"\n",
    "AUTH = (\"neo4j\", \"12345678\")\n",
    "\n",
    "driver = GraphDatabase.driver(URI, auth=AUTH)\n",
    "\n",
    "# Функция загрузки графа в Neo4j\n",
    "def load_graph(tx, graph):\n",
    "    # Создание узлов\n",
    "    for node, data in graph.nodes(data=True):\n",
    "        tx.run(\n",
    "            \"MERGE (p:Protein {entry: $entry}) \"\n",
    "            \"SET p.entry_name = $entry_name, \"\n",
    "            \"    p.protein_names = $protein_names, \"\n",
    "            \"    p.gene_names = $gene_names, \"\n",
    "            \"    p.ec_number = $ec_number\",\n",
    "            entry=node,\n",
    "            entry_name=data['entry_name'],\n",
    "            protein_names=data['protein_names'],\n",
    "            gene_names=data['gene_names'],\n",
    "            ec_number=data['ec_number']\n",
    "        )\n",
    "\n",
    "    # Создание ребер\n",
    "    for u, v, data in graph.edges(data=True):\n",
    "        tx.run(\n",
    "            \"MATCH (a:Protein {entry: $u}), (b:Protein {entry: $v}) \"\n",
    "            \"MERGE (a)-[r:SIMILARITY {weight: $weight}]->(b)\",\n",
    "            u=u, v=v, weight=data['weight']\n",
    "        )\n",
    "\n",
    "# Загрузка графа в Neo4j\n",
    "with driver.session() as session:\n",
    "    session.execute_write(load_graph, protein_graph)\n",
    "\n",
    "driver.close()\n"
   ]
  },
  {
   "cell_type": "code",
   "execution_count": 1,
   "id": "6033e587",
   "metadata": {},
   "outputs": [
    {
     "ename": "ModuleNotFoundError",
     "evalue": "No module named 'st_link_analysis'",
     "output_type": "error",
     "traceback": [
      "\u001b[1;31m---------------------------------------------------------------------------\u001b[0m",
      "\u001b[1;31mModuleNotFoundError\u001b[0m                       Traceback (most recent call last)",
      "Cell \u001b[1;32mIn[1], line 1\u001b[0m\n\u001b[1;32m----> 1\u001b[0m \u001b[38;5;28;01mimport\u001b[39;00m \u001b[38;5;21;01mst_link_analysis\u001b[39;00m\n\u001b[0;32m      2\u001b[0m \u001b[38;5;28mprint\u001b[39m(\u001b[38;5;28mdir\u001b[39m(st_link_analysis))\n",
      "\u001b[1;31mModuleNotFoundError\u001b[0m: No module named 'st_link_analysis'"
     ]
    }
   ],
   "source": [
    "import st_link_analysis\n",
    "\n"
   ]
  }
 ],
 "metadata": {
  "kernelspec": {
   "display_name": "Python 3",
   "language": "python",
   "name": "python3"
  },
  "language_info": {
   "codemirror_mode": {
    "name": "ipython",
    "version": 3
   },
   "file_extension": ".py",
   "mimetype": "text/x-python",
   "name": "python",
   "nbconvert_exporter": "python",
   "pygments_lexer": "ipython3",
   "version": "3.11.3"
  }
 },
 "nbformat": 4,
 "nbformat_minor": 5
}
