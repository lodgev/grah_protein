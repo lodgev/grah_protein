{
 "cells": [
  {
   "cell_type": "code",
   "id": "initial_id",
   "metadata": {
    "collapsed": true,
    "ExecuteTime": {
     "end_time": "2025-03-14T13:46:37.536295Z",
     "start_time": "2025-03-14T13:46:34.854183Z"
    }
   },
   "source": [
    "import pandas as pd\n",
    "\n",
    "# Load and inspect the data file provided by the user\n",
    "file_path = 'uniprotkb_AND_model_organism_9606_2025_02_07.tsv'\n",
    "data = pd.read_csv(file_path, sep='\\t')\n",
    "\n",
    "# Display basic information and first few rows of the dataset\n",
    "data_info = data.info()\n",
    "data_head = data.head()\n",
    "\n",
    "data_info, data_head\n"
   ],
   "outputs": [
    {
     "name": "stdout",
     "output_type": "stream",
     "text": [
      "<class 'pandas.core.frame.DataFrame'>\n",
      "RangeIndex: 205003 entries, 0 to 205002\n",
      "Data columns (total 8 columns):\n",
      " #   Column         Non-Null Count   Dtype \n",
      "---  ------         --------------   ----- \n",
      " 0   Entry          205003 non-null  object\n",
      " 1   Entry Name     205003 non-null  object\n",
      " 2   Protein names  205003 non-null  object\n",
      " 3   Gene Names     165804 non-null  object\n",
      " 4   Organism       205003 non-null  object\n",
      " 5   Sequence       205003 non-null  object\n",
      " 6   EC number      22557 non-null   object\n",
      " 7   InterPro       181534 non-null  object\n",
      "dtypes: object(8)\n",
      "memory usage: 12.5+ MB\n"
     ]
    },
    {
     "data": {
      "text/plain": [
       "(None,\n",
       "         Entry        Entry Name  \\\n",
       " 0  A0A024R1X5  A0A024R1X5_HUMAN   \n",
       " 1  A0A024R274  A0A024R274_HUMAN   \n",
       " 2  A0A024R324  A0A024R324_HUMAN   \n",
       " 3  A0A024R6A3  A0A024R6A3_HUMAN   \n",
       " 4  A0A024R7I7  A0A024R7I7_HUMAN   \n",
       " \n",
       "                                        Protein names       Gene Names  \\\n",
       " 0                                           Beclin-1  BECN1 hCG_16958   \n",
       " 1  Mothers against decapentaplegic homolog (MAD h...            SMAD4   \n",
       " 2  Epididymis secretory sperm binding protein (Ra...   RHOA hCG_20136   \n",
       " 3                           Presenilin (EC 3.4.23.-)            PSEN1   \n",
       " 4                          Ras-related protein Rab-3              NaN   \n",
       " \n",
       "                Organism                                           Sequence  \\\n",
       " 0  Homo sapiens (Human)  MEGSKTSNNSTMQVSFVCQRCSQPLKLDTSFKILDRVTIQELTAPL...   \n",
       " 1  Homo sapiens (Human)  MDNMSITNTPTSNDACLSIVHSLMCHRQGGESETFAKRAIESLVKK...   \n",
       " 2  Homo sapiens (Human)  MAAIRKKLVIVGDGACGKTCLLIVFSKDQFPEVYVPTVFENYVADI...   \n",
       " 3  Homo sapiens (Human)  MTELPAPLSYFQNAQMSEDNHLSNTVRSQNDNRERQEHNDRRSLGH...   \n",
       " 4  Homo sapiens (Human)  MASATDSRYGQKESSDQNFDYMFKILIIGNSSVGKTSFLFRYADDS...   \n",
       " \n",
       "   EC number                                           InterPro  \n",
       " 0       NaN  IPR007243;IPR038274;IPR041691;IPR040455;IPR029...  \n",
       " 1       NaN  IPR013790;IPR003619;IPR013019;IPR017855;IPR001...  \n",
       " 2       NaN           IPR027417;IPR005225;IPR001806;IPR003578;  \n",
       " 3  3.4.23.-           IPR002031;IPR001108;IPR006639;IPR042524;  \n",
       " 4       NaN  IPR027417;IPR037872;IPR005225;IPR001806;IPR050...  )"
      ]
     },
     "execution_count": 1,
     "metadata": {},
     "output_type": "execute_result"
    }
   ],
   "execution_count": 1
  },
  {
   "metadata": {
    "ExecuteTime": {
     "end_time": "2025-03-14T15:38:47.857653Z",
     "start_time": "2025-03-14T15:38:46.741916Z"
    }
   },
   "cell_type": "code",
   "source": [
    "# Предобработка данных\n",
    "\n",
    "# Уберем записи без данных по доменам (InterPro)\n",
    "protein_data_clean = data.dropna(subset=['InterPro']).copy()\n",
    "\n",
    "# Очистим все колонки от NaN и 'NaN', заменив их на None\n",
    "for col in ['Entry', 'Entry Name', 'Protein names', 'Gene Names', 'EC number', 'InterPro']:\n",
    "    protein_data_clean[col] = protein_data_clean[col].replace({np.nan: None, 'NaN': None})\n",
    "\n",
    "# Конвертируем строки с доменами InterPro в списки для удобного дальнейшего анализа\n",
    "protein_data_clean['InterPro_list'] = protein_data_clean['InterPro'].apply(lambda x: x.strip(';').split(';'))\n",
    "\n",
    "# Оставим только нужные для дальнейших задач колонки (идентификатор, имя белка, список доменов, EC номер)\n",
    "protein_data_final = protein_data_clean[['Entry', 'Entry Name', 'Protein names', 'Gene Names', 'EC number', 'InterPro_list']]\n",
    "\n",
    "# Показать пример обработанных данных\n",
    "protein_data_final.head()\n"
   ],
   "id": "d75e071137cebdb4",
   "outputs": [
    {
     "data": {
      "text/plain": [
       "        Entry        Entry Name  \\\n",
       "0  A0A024R1X5  A0A024R1X5_HUMAN   \n",
       "1  A0A024R274  A0A024R274_HUMAN   \n",
       "2  A0A024R324  A0A024R324_HUMAN   \n",
       "3  A0A024R6A3  A0A024R6A3_HUMAN   \n",
       "4  A0A024R7I7  A0A024R7I7_HUMAN   \n",
       "\n",
       "                                       Protein names       Gene Names  \\\n",
       "0                                           Beclin-1  BECN1 hCG_16958   \n",
       "1  Mothers against decapentaplegic homolog (MAD h...            SMAD4   \n",
       "2  Epididymis secretory sperm binding protein (Ra...   RHOA hCG_20136   \n",
       "3                           Presenilin (EC 3.4.23.-)            PSEN1   \n",
       "4                          Ras-related protein Rab-3             None   \n",
       "\n",
       "  EC number                                      InterPro_list  \n",
       "0      None  [IPR007243, IPR038274, IPR041691, IPR040455, I...  \n",
       "1      None  [IPR013790, IPR003619, IPR013019, IPR017855, I...  \n",
       "2      None       [IPR027417, IPR005225, IPR001806, IPR003578]  \n",
       "3  3.4.23.-       [IPR002031, IPR001108, IPR006639, IPR042524]  \n",
       "4      None  [IPR027417, IPR037872, IPR005225, IPR001806, I...  "
      ],
      "text/html": [
       "<div>\n",
       "<style scoped>\n",
       "    .dataframe tbody tr th:only-of-type {\n",
       "        vertical-align: middle;\n",
       "    }\n",
       "\n",
       "    .dataframe tbody tr th {\n",
       "        vertical-align: top;\n",
       "    }\n",
       "\n",
       "    .dataframe thead th {\n",
       "        text-align: right;\n",
       "    }\n",
       "</style>\n",
       "<table border=\"1\" class=\"dataframe\">\n",
       "  <thead>\n",
       "    <tr style=\"text-align: right;\">\n",
       "      <th></th>\n",
       "      <th>Entry</th>\n",
       "      <th>Entry Name</th>\n",
       "      <th>Protein names</th>\n",
       "      <th>Gene Names</th>\n",
       "      <th>EC number</th>\n",
       "      <th>InterPro_list</th>\n",
       "    </tr>\n",
       "  </thead>\n",
       "  <tbody>\n",
       "    <tr>\n",
       "      <th>0</th>\n",
       "      <td>A0A024R1X5</td>\n",
       "      <td>A0A024R1X5_HUMAN</td>\n",
       "      <td>Beclin-1</td>\n",
       "      <td>BECN1 hCG_16958</td>\n",
       "      <td>None</td>\n",
       "      <td>[IPR007243, IPR038274, IPR041691, IPR040455, I...</td>\n",
       "    </tr>\n",
       "    <tr>\n",
       "      <th>1</th>\n",
       "      <td>A0A024R274</td>\n",
       "      <td>A0A024R274_HUMAN</td>\n",
       "      <td>Mothers against decapentaplegic homolog (MAD h...</td>\n",
       "      <td>SMAD4</td>\n",
       "      <td>None</td>\n",
       "      <td>[IPR013790, IPR003619, IPR013019, IPR017855, I...</td>\n",
       "    </tr>\n",
       "    <tr>\n",
       "      <th>2</th>\n",
       "      <td>A0A024R324</td>\n",
       "      <td>A0A024R324_HUMAN</td>\n",
       "      <td>Epididymis secretory sperm binding protein (Ra...</td>\n",
       "      <td>RHOA hCG_20136</td>\n",
       "      <td>None</td>\n",
       "      <td>[IPR027417, IPR005225, IPR001806, IPR003578]</td>\n",
       "    </tr>\n",
       "    <tr>\n",
       "      <th>3</th>\n",
       "      <td>A0A024R6A3</td>\n",
       "      <td>A0A024R6A3_HUMAN</td>\n",
       "      <td>Presenilin (EC 3.4.23.-)</td>\n",
       "      <td>PSEN1</td>\n",
       "      <td>3.4.23.-</td>\n",
       "      <td>[IPR002031, IPR001108, IPR006639, IPR042524]</td>\n",
       "    </tr>\n",
       "    <tr>\n",
       "      <th>4</th>\n",
       "      <td>A0A024R7I7</td>\n",
       "      <td>A0A024R7I7_HUMAN</td>\n",
       "      <td>Ras-related protein Rab-3</td>\n",
       "      <td>None</td>\n",
       "      <td>None</td>\n",
       "      <td>[IPR027417, IPR037872, IPR005225, IPR001806, I...</td>\n",
       "    </tr>\n",
       "  </tbody>\n",
       "</table>\n",
       "</div>"
      ]
     },
     "execution_count": 18,
     "metadata": {},
     "output_type": "execute_result"
    }
   ],
   "execution_count": 18
  },
  {
   "metadata": {
    "ExecuteTime": {
     "end_time": "2025-03-14T14:23:02.471769Z",
     "start_time": "2025-03-14T14:23:01.720224Z"
    }
   },
   "cell_type": "code",
   "source": [
    "import networkx as nx\n",
    "from itertools import combinations\n",
    "from tqdm import tqdm\n",
    "\n",
    "# Возьмём небольшую выборку данных для проверки подхода (первые 1000 белков)\n",
    "sample_data = protein_data_final.head(1000).reset_index(drop=True)\n",
    "\n",
    "# Инициализируем пустой граф\n",
    "protein_graph = nx.Graph()\n",
    "\n",
    "# Добавляем узлы (белки)\n",
    "for idx, row in sample_data.iterrows():\n",
    "    protein_graph.add_node(row['Entry'], \n",
    "                           entry_name=row['Entry Name'],\n",
    "                           protein_names=row['Protein names'],\n",
    "                           gene_names=row['Gene Names'],\n",
    "                           ec_number=row['EC number'],\n",
    "                           interpro_domains=set(row['InterPro_list']))\n",
    "\n",
    "# Рассчитываем коэффициент Жаккара и добавляем ребра\n",
    "# (для примера используем порог сходства 0.3)\n",
    "similarity_threshold = 0.3\n",
    "\n",
    "# Проходимся по комбинациям узлов и считаем сходство\n",
    "for (u, v) in tqdm(combinations(sample_data['Entry'], 2), total=(len(sample_data)*(len(sample_data)-1)//2)):\n",
    "    domains_u = protein_graph.nodes[u]['interpro_domains']\n",
    "    domains_v = protein_graph.nodes[v]['interpro_domains']\n",
    "    \n",
    "    intersection = len(domains_u.intersection(domains_v))\n",
    "    union = len(domains_u.union(domains_v))\n",
    "    jaccard_similarity = intersection / union if union else 0\n",
    "\n",
    "    if jaccard_similarity >= similarity_threshold:\n",
    "        protein_graph.add_edge(u, v, weight=jaccard_similarity)\n",
    "\n",
    "# Проверим краткую статистику по построенному графу\n",
    "graph_info = {\n",
    "    'Количество узлов': protein_graph.number_of_nodes(),\n",
    "    'Количество рёбер': protein_graph.number_of_edges()\n",
    "}\n",
    "\n",
    "graph_info\n"
   ],
   "id": "13231ecbf0207628",
   "outputs": [
    {
     "name": "stderr",
     "output_type": "stream",
     "text": [
      "100%|██████████| 499500/499500 [00:00<00:00, 741106.28it/s]\n"
     ]
    },
    {
     "data": {
      "text/plain": [
       "{'Количество узлов': 1000, 'Количество рёбер': 3498}"
      ]
     },
     "execution_count": 10,
     "metadata": {},
     "output_type": "execute_result"
    }
   ],
   "execution_count": 10
  },
  {
   "metadata": {
    "ExecuteTime": {
     "end_time": "2025-03-14T15:08:31.308787Z",
     "start_time": "2025-03-14T15:07:17.575766Z"
    }
   },
   "cell_type": "code",
   "source": [
    "from neo4j import GraphDatabase\n",
    "import networkx as nx\n",
    "\n",
    "# Настройки подключения к Neo4j\n",
    "URI = \"bolt://localhost:7687\"\n",
    "AUTH = (\"neo4j\", \"12345678\")\n",
    "\n",
    "driver = GraphDatabase.driver(URI, auth=AUTH)\n",
    "\n",
    "# Функция загрузки графа в Neo4j\n",
    "def load_graph(tx, graph):\n",
    "    # Создание узлов\n",
    "    for node, data in graph.nodes(data=True):\n",
    "        tx.run(\n",
    "            \"MERGE (p:Protein {entry: $entry}) \"\n",
    "            \"SET p.entry_name = $entry_name, \"\n",
    "            \"    p.protein_names = $protein_names, \"\n",
    "            \"    p.gene_names = $gene_names, \"\n",
    "            \"    p.ec_number = $ec_number\",\n",
    "            entry=node,\n",
    "            entry_name=data['entry_name'],\n",
    "            protein_names=data['protein_names'],\n",
    "            gene_names=data['gene_names'],\n",
    "            ec_number=data['ec_number']\n",
    "        )\n",
    "\n",
    "    # Создание ребер\n",
    "    for u, v, data in graph.edges(data=True):\n",
    "        tx.run(\n",
    "            \"MATCH (a:Protein {entry: $u}), (b:Protein {entry: $v}) \"\n",
    "            \"MERGE (a)-[r:SIMILARITY {weight: $weight}]->(b)\",\n",
    "            u=u, v=v, weight=data['weight']\n",
    "        )\n",
    "\n",
    "# Загрузка графа в Neo4j\n",
    "with driver.session() as session:\n",
    "    session.execute_write(load_graph, protein_graph_large)\n",
    "\n",
    "driver.close()\n"
   ],
   "id": "3aa6368ffefc77d",
   "outputs": [
    {
     "ename": "BufferError",
     "evalue": "Existing exports of data: object cannot be re-sized",
     "output_type": "error",
     "traceback": [
      "\u001B[31m---------------------------------------------------------------------------\u001B[39m",
      "\u001B[31mKeyboardInterrupt\u001B[39m                         Traceback (most recent call last)",
      "\u001B[36mCell\u001B[39m\u001B[36m \u001B[39m\u001B[32mIn[15]\u001B[39m\u001B[32m, line 37\u001B[39m\n\u001B[32m     36\u001B[39m \u001B[38;5;28;01mwith\u001B[39;00m driver.session() \u001B[38;5;28;01mas\u001B[39;00m session:\n\u001B[32m---> \u001B[39m\u001B[32m37\u001B[39m     \u001B[43msession\u001B[49m\u001B[43m.\u001B[49m\u001B[43mexecute_write\u001B[49m\u001B[43m(\u001B[49m\u001B[43mload_graph\u001B[49m\u001B[43m,\u001B[49m\u001B[43m \u001B[49m\u001B[43mprotein_graph_large\u001B[49m\u001B[43m)\u001B[49m\n\u001B[32m     39\u001B[39m driver.close()\n",
      "\u001B[36mFile \u001B[39m\u001B[32mD:\\IDMC\\M2\\graphs\\grah_protein\\.venv\\Lib\\site-packages\\neo4j\\_sync\\work\\session.py:803\u001B[39m, in \u001B[36mSession.execute_write\u001B[39m\u001B[34m(self, transaction_function, *args, **kwargs)\u001B[39m\n\u001B[32m    759\u001B[39m \u001B[38;5;250m\u001B[39m\u001B[33;03m\"\"\"\u001B[39;00m\n\u001B[32m    760\u001B[39m \u001B[33;03mExecute a unit of work in a managed write transaction.\u001B[39;00m\n\u001B[32m    761\u001B[39m \n\u001B[32m   (...)\u001B[39m\u001B[32m    801\u001B[39m \u001B[33;03m.. versionadded:: 5.0\u001B[39;00m\n\u001B[32m    802\u001B[39m \u001B[33;03m\"\"\"\u001B[39;00m  \u001B[38;5;66;03m# noqa: E501 example code isn't too long\u001B[39;00m\n\u001B[32m--> \u001B[39m\u001B[32m803\u001B[39m \u001B[38;5;28;01mreturn\u001B[39;00m \u001B[38;5;28;43mself\u001B[39;49m\u001B[43m.\u001B[49m\u001B[43m_run_transaction\u001B[49m\u001B[43m(\u001B[49m\n\u001B[32m    804\u001B[39m \u001B[43m    \u001B[49m\u001B[43mWRITE_ACCESS\u001B[49m\u001B[43m,\u001B[49m\n\u001B[32m    805\u001B[39m \u001B[43m    \u001B[49m\u001B[43mTelemetryAPI\u001B[49m\u001B[43m.\u001B[49m\u001B[43mTX_FUNC\u001B[49m\u001B[43m,\u001B[49m\n\u001B[32m    806\u001B[39m \u001B[43m    \u001B[49m\u001B[43mtransaction_function\u001B[49m\u001B[43m,\u001B[49m\n\u001B[32m    807\u001B[39m \u001B[43m    \u001B[49m\u001B[43margs\u001B[49m\u001B[43m,\u001B[49m\n\u001B[32m    808\u001B[39m \u001B[43m    \u001B[49m\u001B[43mkwargs\u001B[49m\u001B[43m,\u001B[49m\n\u001B[32m    809\u001B[39m \u001B[43m\u001B[49m\u001B[43m)\u001B[49m\n",
      "\u001B[36mFile \u001B[39m\u001B[32mD:\\IDMC\\M2\\graphs\\grah_protein\\.venv\\Lib\\site-packages\\neo4j\\_sync\\work\\session.py:583\u001B[39m, in \u001B[36mSession._run_transaction\u001B[39m\u001B[34m(self, access_mode, api, transaction_function, args, kwargs)\u001B[39m\n\u001B[32m    582\u001B[39m \u001B[38;5;28;01mtry\u001B[39;00m:\n\u001B[32m--> \u001B[39m\u001B[32m583\u001B[39m     result = \u001B[43mtransaction_function\u001B[49m\u001B[43m(\u001B[49m\u001B[43mtx\u001B[49m\u001B[43m,\u001B[49m\u001B[43m \u001B[49m\u001B[43m*\u001B[49m\u001B[43margs\u001B[49m\u001B[43m,\u001B[49m\u001B[43m \u001B[49m\u001B[43m*\u001B[49m\u001B[43m*\u001B[49m\u001B[43mkwargs\u001B[49m\u001B[43m)\u001B[49m\n\u001B[32m    584\u001B[39m \u001B[38;5;28;01mexcept\u001B[39;00m asyncio.CancelledError:\n\u001B[32m    585\u001B[39m     \u001B[38;5;66;03m# if cancellation callback has not been called yet:\u001B[39;00m\n",
      "\u001B[36mCell\u001B[39m\u001B[36m \u001B[39m\u001B[32mIn[15]\u001B[39m\u001B[32m, line 29\u001B[39m, in \u001B[36mload_graph\u001B[39m\u001B[34m(tx, graph)\u001B[39m\n\u001B[32m     28\u001B[39m \u001B[38;5;28;01mfor\u001B[39;00m u, v, data \u001B[38;5;129;01min\u001B[39;00m graph.edges(data=\u001B[38;5;28;01mTrue\u001B[39;00m):\n\u001B[32m---> \u001B[39m\u001B[32m29\u001B[39m     \u001B[43mtx\u001B[49m\u001B[43m.\u001B[49m\u001B[43mrun\u001B[49m\u001B[43m(\u001B[49m\n\u001B[32m     30\u001B[39m \u001B[43m        \u001B[49m\u001B[33;43m\"\u001B[39;49m\u001B[33;43mMATCH (a:Protein \u001B[39;49m\u001B[33;43m{\u001B[39;49m\u001B[33;43mentry: $u}), (b:Protein \u001B[39;49m\u001B[33;43m{\u001B[39;49m\u001B[33;43mentry: $v}) \u001B[39;49m\u001B[33;43m\"\u001B[39;49m\n\u001B[32m     31\u001B[39m \u001B[43m        \u001B[49m\u001B[33;43m\"\u001B[39;49m\u001B[33;43mMERGE (a)-[r:SIMILARITY \u001B[39;49m\u001B[33;43m{\u001B[39;49m\u001B[33;43mweight: $weight}]->(b)\u001B[39;49m\u001B[33;43m\"\u001B[39;49m\u001B[43m,\u001B[49m\n\u001B[32m     32\u001B[39m \u001B[43m        \u001B[49m\u001B[43mu\u001B[49m\u001B[43m=\u001B[49m\u001B[43mu\u001B[49m\u001B[43m,\u001B[49m\u001B[43m \u001B[49m\u001B[43mv\u001B[49m\u001B[43m=\u001B[49m\u001B[43mv\u001B[49m\u001B[43m,\u001B[49m\u001B[43m \u001B[49m\u001B[43mweight\u001B[49m\u001B[43m=\u001B[49m\u001B[43mdata\u001B[49m\u001B[43m[\u001B[49m\u001B[33;43m'\u001B[39;49m\u001B[33;43mweight\u001B[39;49m\u001B[33;43m'\u001B[39;49m\u001B[43m]\u001B[49m\n\u001B[32m     33\u001B[39m \u001B[43m    \u001B[49m\u001B[43m)\u001B[49m\n",
      "\u001B[36mFile \u001B[39m\u001B[32mD:\\IDMC\\M2\\graphs\\grah_protein\\.venv\\Lib\\site-packages\\neo4j\\_sync\\work\\transaction.py:206\u001B[39m, in \u001B[36mTransactionBase.run\u001B[39m\u001B[34m(self, query, parameters, **kwparameters)\u001B[39m\n\u001B[32m    205\u001B[39m parameters = \u001B[38;5;28mdict\u001B[39m(parameters \u001B[38;5;129;01mor\u001B[39;00m {}, **kwparameters)\n\u001B[32m--> \u001B[39m\u001B[32m206\u001B[39m \u001B[43mresult\u001B[49m\u001B[43m.\u001B[49m\u001B[43m_tx_ready_run\u001B[49m\u001B[43m(\u001B[49m\u001B[43mquery\u001B[49m\u001B[43m,\u001B[49m\u001B[43m \u001B[49m\u001B[43mparameters\u001B[49m\u001B[43m)\u001B[49m\n\u001B[32m    208\u001B[39m \u001B[38;5;28;01mreturn\u001B[39;00m result\n",
      "\u001B[36mFile \u001B[39m\u001B[32mD:\\IDMC\\M2\\graphs\\grah_protein\\.venv\\Lib\\site-packages\\neo4j\\_sync\\work\\result.py:177\u001B[39m, in \u001B[36mResult._tx_ready_run\u001B[39m\u001B[34m(self, query, parameters)\u001B[39m\n\u001B[32m    173\u001B[39m \u001B[38;5;28;01mdef\u001B[39;00m\u001B[38;5;250m \u001B[39m\u001B[34m_tx_ready_run\u001B[39m(\u001B[38;5;28mself\u001B[39m, query, parameters):\n\u001B[32m    174\u001B[39m     \u001B[38;5;66;03m# BEGIN+RUN does not carry any extra on the RUN message.\u001B[39;00m\n\u001B[32m    175\u001B[39m     \u001B[38;5;66;03m# BEGIN {extra}\u001B[39;00m\n\u001B[32m    176\u001B[39m     \u001B[38;5;66;03m# RUN \"query\" {parameters} {extra}\u001B[39;00m\n\u001B[32m--> \u001B[39m\u001B[32m177\u001B[39m     \u001B[38;5;28;43mself\u001B[39;49m\u001B[43m.\u001B[49m\u001B[43m_run\u001B[49m\u001B[43m(\u001B[49m\u001B[43mquery\u001B[49m\u001B[43m,\u001B[49m\u001B[43m \u001B[49m\u001B[43mparameters\u001B[49m\u001B[43m,\u001B[49m\u001B[43m \u001B[49m\u001B[38;5;28;43;01mNone\u001B[39;49;00m\u001B[43m,\u001B[49m\u001B[43m \u001B[49m\u001B[38;5;28;43;01mNone\u001B[39;49;00m\u001B[43m,\u001B[49m\u001B[43m \u001B[49m\u001B[38;5;28;43;01mNone\u001B[39;49;00m\u001B[43m,\u001B[49m\u001B[43m \u001B[49m\u001B[38;5;28;43;01mNone\u001B[39;49;00m\u001B[43m,\u001B[49m\u001B[43m \u001B[49m\u001B[38;5;28;43;01mNone\u001B[39;49;00m\u001B[43m,\u001B[49m\u001B[43m \u001B[49m\u001B[38;5;28;43;01mNone\u001B[39;49;00m\u001B[43m)\u001B[49m\n",
      "\u001B[36mFile \u001B[39m\u001B[32mD:\\IDMC\\M2\\graphs\\grah_protein\\.venv\\Lib\\site-packages\\neo4j\\_sync\\work\\result.py:236\u001B[39m, in \u001B[36mResult._run\u001B[39m\u001B[34m(self, query, parameters, db, imp_user, access_mode, bookmarks, notifications_min_severity, notifications_disabled_classifications)\u001B[39m\n\u001B[32m    235\u001B[39m \u001B[38;5;28mself\u001B[39m._connection.send_all()\n\u001B[32m--> \u001B[39m\u001B[32m236\u001B[39m \u001B[38;5;28;43mself\u001B[39;49m\u001B[43m.\u001B[49m\u001B[43m_attach\u001B[49m\u001B[43m(\u001B[49m\u001B[43m)\u001B[49m\n",
      "\u001B[36mFile \u001B[39m\u001B[32mD:\\IDMC\\M2\\graphs\\grah_protein\\.venv\\Lib\\site-packages\\neo4j\\_sync\\work\\result.py:430\u001B[39m, in \u001B[36mResult._attach\u001B[39m\u001B[34m(self)\u001B[39m\n\u001B[32m    429\u001B[39m \u001B[38;5;28;01mwhile\u001B[39;00m \u001B[38;5;28mself\u001B[39m._attached \u001B[38;5;129;01mis\u001B[39;00m \u001B[38;5;28;01mFalse\u001B[39;00m:\n\u001B[32m--> \u001B[39m\u001B[32m430\u001B[39m     \u001B[38;5;28;43mself\u001B[39;49m\u001B[43m.\u001B[49m\u001B[43m_connection\u001B[49m\u001B[43m.\u001B[49m\u001B[43mfetch_message\u001B[49m\u001B[43m(\u001B[49m\u001B[43m)\u001B[49m\n",
      "\u001B[36mFile \u001B[39m\u001B[32mD:\\IDMC\\M2\\graphs\\grah_protein\\.venv\\Lib\\site-packages\\neo4j\\_sync\\io\\_common.py:184\u001B[39m, in \u001B[36mConnectionErrorHandler.__getattr__.<locals>.outer.<locals>.inner\u001B[39m\u001B[34m(*args, **kwargs)\u001B[39m\n\u001B[32m    183\u001B[39m \u001B[38;5;28;01mtry\u001B[39;00m:\n\u001B[32m--> \u001B[39m\u001B[32m184\u001B[39m     \u001B[43mfunc\u001B[49m\u001B[43m(\u001B[49m\u001B[43m*\u001B[49m\u001B[43margs\u001B[49m\u001B[43m,\u001B[49m\u001B[43m \u001B[49m\u001B[43m*\u001B[49m\u001B[43m*\u001B[49m\u001B[43mkwargs\u001B[49m\u001B[43m)\u001B[49m\n\u001B[32m    185\u001B[39m \u001B[38;5;28;01mexcept\u001B[39;00m (Neo4jError, ServiceUnavailable, SessionExpired) \u001B[38;5;28;01mas\u001B[39;00m exc:\n",
      "\u001B[36mFile \u001B[39m\u001B[32mD:\\IDMC\\M2\\graphs\\grah_protein\\.venv\\Lib\\site-packages\\neo4j\\_sync\\io\\_bolt.py:861\u001B[39m, in \u001B[36mBolt.fetch_message\u001B[39m\u001B[34m(self)\u001B[39m\n\u001B[32m    860\u001B[39m \u001B[38;5;66;03m# Receive exactly one message\u001B[39;00m\n\u001B[32m--> \u001B[39m\u001B[32m861\u001B[39m tag, fields = \u001B[38;5;28;43mself\u001B[39;49m\u001B[43m.\u001B[49m\u001B[43minbox\u001B[49m\u001B[43m.\u001B[49m\u001B[43mpop\u001B[49m\u001B[43m(\u001B[49m\n\u001B[32m    862\u001B[39m \u001B[43m    \u001B[49m\u001B[43mhydration_hooks\u001B[49m\u001B[43m=\u001B[49m\u001B[38;5;28;43mself\u001B[39;49m\u001B[43m.\u001B[49m\u001B[43mresponses\u001B[49m\u001B[43m[\u001B[49m\u001B[32;43m0\u001B[39;49m\u001B[43m]\u001B[49m\u001B[43m.\u001B[49m\u001B[43mhydration_hooks\u001B[49m\n\u001B[32m    863\u001B[39m \u001B[43m\u001B[49m\u001B[43m)\u001B[49m\n\u001B[32m    864\u001B[39m res = \u001B[38;5;28mself\u001B[39m._process_message(tag, fields)\n",
      "\u001B[36mFile \u001B[39m\u001B[32mD:\\IDMC\\M2\\graphs\\grah_protein\\.venv\\Lib\\site-packages\\neo4j\\_sync\\io\\_common.py:77\u001B[39m, in \u001B[36mInbox.pop\u001B[39m\u001B[34m(self, hydration_hooks)\u001B[39m\n\u001B[32m     76\u001B[39m \u001B[38;5;28;01mdef\u001B[39;00m\u001B[38;5;250m \u001B[39m\u001B[34mpop\u001B[39m(\u001B[38;5;28mself\u001B[39m, hydration_hooks):\n\u001B[32m---> \u001B[39m\u001B[32m77\u001B[39m     \u001B[38;5;28;43mself\u001B[39;49m\u001B[43m.\u001B[49m\u001B[43m_buffer_one_chunk\u001B[49m\u001B[43m(\u001B[49m\u001B[43m)\u001B[49m\n\u001B[32m     78\u001B[39m     \u001B[38;5;28;01mtry\u001B[39;00m:\n",
      "\u001B[36mFile \u001B[39m\u001B[32mD:\\IDMC\\M2\\graphs\\grah_protein\\.venv\\Lib\\site-packages\\neo4j\\_sync\\io\\_common.py:54\u001B[39m, in \u001B[36mInbox._buffer_one_chunk\u001B[39m\u001B[34m(self)\u001B[39m\n\u001B[32m     52\u001B[39m \u001B[38;5;28;01mwhile\u001B[39;00m chunk_size == \u001B[32m0\u001B[39m:\n\u001B[32m     53\u001B[39m     \u001B[38;5;66;03m# Determine the chunk size and skip noop\u001B[39;00m\n\u001B[32m---> \u001B[39m\u001B[32m54\u001B[39m     \u001B[43mreceive_into_buffer\u001B[49m\u001B[43m(\u001B[49m\u001B[38;5;28;43mself\u001B[39;49m\u001B[43m.\u001B[49m\u001B[43m_socket\u001B[49m\u001B[43m,\u001B[49m\u001B[43m \u001B[49m\u001B[38;5;28;43mself\u001B[39;49m\u001B[43m.\u001B[49m\u001B[43m_buffer\u001B[49m\u001B[43m,\u001B[49m\u001B[43m \u001B[49m\u001B[32;43m2\u001B[39;49m\u001B[43m)\u001B[49m\n\u001B[32m     55\u001B[39m     chunk_size = \u001B[38;5;28mself\u001B[39m._buffer.pop_u16()\n",
      "\u001B[36mFile \u001B[39m\u001B[32mD:\\IDMC\\M2\\graphs\\grah_protein\\.venv\\Lib\\site-packages\\neo4j\\_sync\\io\\_common.py:345\u001B[39m, in \u001B[36mreceive_into_buffer\u001B[39m\u001B[34m(sock, buffer, n_bytes)\u001B[39m\n\u001B[32m    344\u001B[39m \u001B[38;5;28;01mwhile\u001B[39;00m buffer.used < end:\n\u001B[32m--> \u001B[39m\u001B[32m345\u001B[39m     n = \u001B[43msock\u001B[49m\u001B[43m.\u001B[49m\u001B[43mrecv_into\u001B[49m\u001B[43m(\u001B[49m\n\u001B[32m    346\u001B[39m \u001B[43m        \u001B[49m\u001B[43mview\u001B[49m\u001B[43m[\u001B[49m\u001B[43mbuffer\u001B[49m\u001B[43m.\u001B[49m\u001B[43mused\u001B[49m\u001B[43m \u001B[49m\u001B[43m:\u001B[49m\u001B[43m \u001B[49m\u001B[43mend\u001B[49m\u001B[43m]\u001B[49m\u001B[43m,\u001B[49m\u001B[43m \u001B[49m\u001B[43mend\u001B[49m\u001B[43m \u001B[49m\u001B[43m-\u001B[49m\u001B[43m \u001B[49m\u001B[43mbuffer\u001B[49m\u001B[43m.\u001B[49m\u001B[43mused\u001B[49m\n\u001B[32m    347\u001B[39m \u001B[43m    \u001B[49m\u001B[43m)\u001B[49m\n\u001B[32m    348\u001B[39m     \u001B[38;5;28;01mif\u001B[39;00m n == \u001B[32m0\u001B[39m:\n",
      "\u001B[36mFile \u001B[39m\u001B[32mD:\\IDMC\\M2\\graphs\\grah_protein\\.venv\\Lib\\site-packages\\neo4j\\_async_compat\\network\\_bolt_socket.py:364\u001B[39m, in \u001B[36mBoltSocketBase.recv_into\u001B[39m\u001B[34m(self, buffer, nbytes)\u001B[39m\n\u001B[32m    363\u001B[39m \u001B[38;5;28;01mdef\u001B[39;00m\u001B[38;5;250m \u001B[39m\u001B[34mrecv_into\u001B[39m(\u001B[38;5;28mself\u001B[39m, buffer, nbytes):\n\u001B[32m--> \u001B[39m\u001B[32m364\u001B[39m     \u001B[38;5;28;01mreturn\u001B[39;00m \u001B[38;5;28;43mself\u001B[39;49m\u001B[43m.\u001B[49m\u001B[43m_wait_for_io\u001B[49m\u001B[43m(\u001B[49m\u001B[38;5;28;43mself\u001B[39;49m\u001B[43m.\u001B[49m\u001B[43m_socket\u001B[49m\u001B[43m.\u001B[49m\u001B[43mrecv_into\u001B[49m\u001B[43m,\u001B[49m\u001B[43m \u001B[49m\u001B[43mbuffer\u001B[49m\u001B[43m,\u001B[49m\u001B[43m \u001B[49m\u001B[43mnbytes\u001B[49m\u001B[43m)\u001B[49m\n",
      "\u001B[36mFile \u001B[39m\u001B[32mD:\\IDMC\\M2\\graphs\\grah_protein\\.venv\\Lib\\site-packages\\neo4j\\_async_compat\\network\\_bolt_socket.py:339\u001B[39m, in \u001B[36mBoltSocketBase._wait_for_io\u001B[39m\u001B[34m(self, func, *args, **kwargs)\u001B[39m\n\u001B[32m    338\u001B[39m \u001B[38;5;28;01mif\u001B[39;00m \u001B[38;5;28mself\u001B[39m._deadline \u001B[38;5;129;01mis\u001B[39;00m \u001B[38;5;28;01mNone\u001B[39;00m:\n\u001B[32m--> \u001B[39m\u001B[32m339\u001B[39m     \u001B[38;5;28;01mreturn\u001B[39;00m \u001B[43mfunc\u001B[49m\u001B[43m(\u001B[49m\u001B[43m*\u001B[49m\u001B[43margs\u001B[49m\u001B[43m,\u001B[49m\u001B[43m \u001B[49m\u001B[43m*\u001B[49m\u001B[43m*\u001B[49m\u001B[43mkwargs\u001B[49m\u001B[43m)\u001B[49m\n\u001B[32m    340\u001B[39m timeout = \u001B[38;5;28mself\u001B[39m._socket.gettimeout()\n",
      "\u001B[31mKeyboardInterrupt\u001B[39m: ",
      "\nDuring handling of the above exception, another exception occurred:\n",
      "\u001B[31mBufferError\u001B[39m                               Traceback (most recent call last)",
      "\u001B[36mFile \u001B[39m\u001B[32mD:\\IDMC\\M2\\graphs\\grah_protein\\.venv\\Lib\\site-packages\\neo4j\\_sync\\work\\transaction.py:253\u001B[39m, in \u001B[36mTransactionBase._rollback\u001B[39m\u001B[34m(self)\u001B[39m\n\u001B[32m    252\u001B[39m         \u001B[38;5;28mself\u001B[39m._connection.send_all()\n\u001B[32m--> \u001B[39m\u001B[32m253\u001B[39m         \u001B[38;5;28;43mself\u001B[39;49m\u001B[43m.\u001B[49m\u001B[43m_connection\u001B[49m\u001B[43m.\u001B[49m\u001B[43mfetch_all\u001B[49m\u001B[43m(\u001B[49m\u001B[43m)\u001B[49m\n\u001B[32m    254\u001B[39m \u001B[38;5;28;01mexcept\u001B[39;00m asyncio.CancelledError:\n",
      "\u001B[36mFile \u001B[39m\u001B[32mD:\\IDMC\\M2\\graphs\\grah_protein\\.venv\\Lib\\site-packages\\neo4j\\_sync\\io\\_bolt.py:879\u001B[39m, in \u001B[36mBolt.fetch_all\u001B[39m\u001B[34m(self)\u001B[39m\n\u001B[32m    878\u001B[39m \u001B[38;5;28;01mwhile\u001B[39;00m \u001B[38;5;129;01mnot\u001B[39;00m response.complete:\n\u001B[32m--> \u001B[39m\u001B[32m879\u001B[39m     detail_delta, summary_delta = \u001B[38;5;28;43mself\u001B[39;49m\u001B[43m.\u001B[49m\u001B[43mfetch_message\u001B[49m\u001B[43m(\u001B[49m\u001B[43m)\u001B[49m\n\u001B[32m    880\u001B[39m     detail_count += detail_delta\n",
      "\u001B[36mFile \u001B[39m\u001B[32mD:\\IDMC\\M2\\graphs\\grah_protein\\.venv\\Lib\\site-packages\\neo4j\\_sync\\io\\_bolt.py:861\u001B[39m, in \u001B[36mBolt.fetch_message\u001B[39m\u001B[34m(self)\u001B[39m\n\u001B[32m    860\u001B[39m \u001B[38;5;66;03m# Receive exactly one message\u001B[39;00m\n\u001B[32m--> \u001B[39m\u001B[32m861\u001B[39m tag, fields = \u001B[38;5;28;43mself\u001B[39;49m\u001B[43m.\u001B[49m\u001B[43minbox\u001B[49m\u001B[43m.\u001B[49m\u001B[43mpop\u001B[49m\u001B[43m(\u001B[49m\n\u001B[32m    862\u001B[39m \u001B[43m    \u001B[49m\u001B[43mhydration_hooks\u001B[49m\u001B[43m=\u001B[49m\u001B[38;5;28;43mself\u001B[39;49m\u001B[43m.\u001B[49m\u001B[43mresponses\u001B[49m\u001B[43m[\u001B[49m\u001B[32;43m0\u001B[39;49m\u001B[43m]\u001B[49m\u001B[43m.\u001B[49m\u001B[43mhydration_hooks\u001B[49m\n\u001B[32m    863\u001B[39m \u001B[43m\u001B[49m\u001B[43m)\u001B[49m\n\u001B[32m    864\u001B[39m res = \u001B[38;5;28mself\u001B[39m._process_message(tag, fields)\n",
      "\u001B[36mFile \u001B[39m\u001B[32mD:\\IDMC\\M2\\graphs\\grah_protein\\.venv\\Lib\\site-packages\\neo4j\\_sync\\io\\_common.py:77\u001B[39m, in \u001B[36mInbox.pop\u001B[39m\u001B[34m(self, hydration_hooks)\u001B[39m\n\u001B[32m     76\u001B[39m \u001B[38;5;28;01mdef\u001B[39;00m\u001B[38;5;250m \u001B[39m\u001B[34mpop\u001B[39m(\u001B[38;5;28mself\u001B[39m, hydration_hooks):\n\u001B[32m---> \u001B[39m\u001B[32m77\u001B[39m     \u001B[38;5;28;43mself\u001B[39;49m\u001B[43m.\u001B[49m\u001B[43m_buffer_one_chunk\u001B[49m\u001B[43m(\u001B[49m\u001B[43m)\u001B[49m\n\u001B[32m     78\u001B[39m     \u001B[38;5;28;01mtry\u001B[39;00m:\n",
      "\u001B[36mFile \u001B[39m\u001B[32mD:\\IDMC\\M2\\graphs\\grah_protein\\.venv\\Lib\\site-packages\\neo4j\\_sync\\io\\_common.py:59\u001B[39m, in \u001B[36mInbox._buffer_one_chunk\u001B[39m\u001B[34m(self)\u001B[39m\n\u001B[32m     57\u001B[39m         log.debug(\u001B[33m\"\u001B[39m\u001B[33m[#\u001B[39m\u001B[38;5;132;01m%04X\u001B[39;00m\u001B[33m]  S: <NOOP>\u001B[39m\u001B[33m\"\u001B[39m, \u001B[38;5;28mself\u001B[39m._local_port)\n\u001B[32m---> \u001B[39m\u001B[32m59\u001B[39m \u001B[43mreceive_into_buffer\u001B[49m\u001B[43m(\u001B[49m\n\u001B[32m     60\u001B[39m \u001B[43m    \u001B[49m\u001B[38;5;28;43mself\u001B[39;49m\u001B[43m.\u001B[49m\u001B[43m_socket\u001B[49m\u001B[43m,\u001B[49m\u001B[43m \u001B[49m\u001B[38;5;28;43mself\u001B[39;49m\u001B[43m.\u001B[49m\u001B[43m_buffer\u001B[49m\u001B[43m,\u001B[49m\u001B[43m \u001B[49m\u001B[43mchunk_size\u001B[49m\u001B[43m \u001B[49m\u001B[43m+\u001B[49m\u001B[43m \u001B[49m\u001B[32;43m2\u001B[39;49m\n\u001B[32m     61\u001B[39m \u001B[43m\u001B[49m\u001B[43m)\u001B[49m\n\u001B[32m     62\u001B[39m chunk_size = \u001B[38;5;28mself\u001B[39m._buffer.pop_u16()\n",
      "\u001B[36mFile \u001B[39m\u001B[32mD:\\IDMC\\M2\\graphs\\grah_protein\\.venv\\Lib\\site-packages\\neo4j\\_sync\\io\\_common.py:342\u001B[39m, in \u001B[36mreceive_into_buffer\u001B[39m\u001B[34m(sock, buffer, n_bytes)\u001B[39m\n\u001B[32m    341\u001B[39m \u001B[38;5;28;01mif\u001B[39;00m end > \u001B[38;5;28mlen\u001B[39m(buffer.data):\n\u001B[32m--> \u001B[39m\u001B[32m342\u001B[39m     \u001B[43mbuffer\u001B[49m\u001B[43m.\u001B[49m\u001B[43mdata\u001B[49m\u001B[43m \u001B[49m\u001B[43m+\u001B[49m\u001B[43m=\u001B[49m\u001B[43m \u001B[49m\u001B[38;5;28;43mbytearray\u001B[39;49m\u001B[43m(\u001B[49m\u001B[43mend\u001B[49m\u001B[43m \u001B[49m\u001B[43m-\u001B[49m\u001B[43m \u001B[49m\u001B[38;5;28;43mlen\u001B[39;49m\u001B[43m(\u001B[49m\u001B[43mbuffer\u001B[49m\u001B[43m.\u001B[49m\u001B[43mdata\u001B[49m\u001B[43m)\u001B[49m\u001B[43m)\u001B[49m\n\u001B[32m    343\u001B[39m \u001B[38;5;28;01mwith\u001B[39;00m \u001B[38;5;28mmemoryview\u001B[39m(buffer.data) \u001B[38;5;28;01mas\u001B[39;00m view:\n",
      "\u001B[31mBufferError\u001B[39m: Existing exports of data: object cannot be re-sized",
      "\nDuring handling of the above exception, another exception occurred:\n",
      "\u001B[31mBufferError\u001B[39m                               Traceback (most recent call last)",
      "\u001B[36mCell\u001B[39m\u001B[36m \u001B[39m\u001B[32mIn[15]\u001B[39m\u001B[32m, line 36\u001B[39m\n\u001B[32m     29\u001B[39m         tx.run(\n\u001B[32m     30\u001B[39m             \u001B[33m\"\u001B[39m\u001B[33mMATCH (a:Protein \u001B[39m\u001B[33m{\u001B[39m\u001B[33mentry: $u}), (b:Protein \u001B[39m\u001B[33m{\u001B[39m\u001B[33mentry: $v}) \u001B[39m\u001B[33m\"\u001B[39m\n\u001B[32m     31\u001B[39m             \u001B[33m\"\u001B[39m\u001B[33mMERGE (a)-[r:SIMILARITY \u001B[39m\u001B[33m{\u001B[39m\u001B[33mweight: $weight}]->(b)\u001B[39m\u001B[33m\"\u001B[39m,\n\u001B[32m     32\u001B[39m             u=u, v=v, weight=data[\u001B[33m'\u001B[39m\u001B[33mweight\u001B[39m\u001B[33m'\u001B[39m]\n\u001B[32m     33\u001B[39m         )\n\u001B[32m     35\u001B[39m \u001B[38;5;66;03m# Загрузка графа в Neo4j\u001B[39;00m\n\u001B[32m---> \u001B[39m\u001B[32m36\u001B[39m \u001B[38;5;28;43;01mwith\u001B[39;49;00m\u001B[43m \u001B[49m\u001B[43mdriver\u001B[49m\u001B[43m.\u001B[49m\u001B[43msession\u001B[49m\u001B[43m(\u001B[49m\u001B[43m)\u001B[49m\u001B[43m \u001B[49m\u001B[38;5;28;43;01mas\u001B[39;49;00m\u001B[43m \u001B[49m\u001B[43msession\u001B[49m\u001B[43m:\u001B[49m\n\u001B[32m     37\u001B[39m \u001B[43m    \u001B[49m\u001B[43msession\u001B[49m\u001B[43m.\u001B[49m\u001B[43mexecute_write\u001B[49m\u001B[43m(\u001B[49m\u001B[43mload_graph\u001B[49m\u001B[43m,\u001B[49m\u001B[43m \u001B[49m\u001B[43mprotein_graph_large\u001B[49m\u001B[43m)\u001B[49m\n\u001B[32m     39\u001B[39m driver.close()\n",
      "\u001B[36mFile \u001B[39m\u001B[32mD:\\IDMC\\M2\\graphs\\grah_protein\\.venv\\Lib\\site-packages\\neo4j\\_sync\\work\\session.py:130\u001B[39m, in \u001B[36mSession.__exit__\u001B[39m\u001B[34m(self, exception_type, exception_value, traceback)\u001B[39m\n\u001B[32m    128\u001B[39m         \u001B[38;5;28;01mreturn\u001B[39;00m\n\u001B[32m    129\u001B[39m     \u001B[38;5;28mself\u001B[39m._state_failed = \u001B[38;5;28;01mTrue\u001B[39;00m\n\u001B[32m--> \u001B[39m\u001B[32m130\u001B[39m \u001B[38;5;28;43mself\u001B[39;49m\u001B[43m.\u001B[49m\u001B[43mclose\u001B[49m\u001B[43m(\u001B[49m\u001B[43m)\u001B[49m\n",
      "\u001B[36mFile \u001B[39m\u001B[32mD:\\IDMC\\M2\\graphs\\grah_protein\\.venv\\Lib\\site-packages\\neo4j\\_sync\\work\\session.py:216\u001B[39m, in \u001B[36mSession.close\u001B[39m\u001B[34m(self)\u001B[39m\n\u001B[32m    213\u001B[39m \u001B[38;5;28;01mif\u001B[39;00m \u001B[38;5;28mself\u001B[39m._transaction:\n\u001B[32m    214\u001B[39m     \u001B[38;5;28;01mif\u001B[39;00m \u001B[38;5;28mself\u001B[39m._transaction._closed() \u001B[38;5;129;01mis\u001B[39;00m \u001B[38;5;28;01mFalse\u001B[39;00m:\n\u001B[32m    215\u001B[39m         \u001B[38;5;66;03m# roll back the transaction if it is not closed\u001B[39;00m\n\u001B[32m--> \u001B[39m\u001B[32m216\u001B[39m         \u001B[38;5;28;43mself\u001B[39;49m\u001B[43m.\u001B[49m\u001B[43m_transaction\u001B[49m\u001B[43m.\u001B[49m\u001B[43m_rollback\u001B[49m\u001B[43m(\u001B[49m\u001B[43m)\u001B[49m\n\u001B[32m    217\u001B[39m     \u001B[38;5;28mself\u001B[39m._transaction = \u001B[38;5;28;01mNone\u001B[39;00m\n\u001B[32m    219\u001B[39m \u001B[38;5;28;01mtry\u001B[39;00m:\n",
      "\u001B[36mFile \u001B[39m\u001B[32mD:\\IDMC\\M2\\graphs\\grah_protein\\.venv\\Lib\\site-packages\\neo4j\\_sync\\work\\transaction.py:259\u001B[39m, in \u001B[36mTransactionBase._rollback\u001B[39m\u001B[34m(self)\u001B[39m\n\u001B[32m    257\u001B[39m \u001B[38;5;28;01mfinally\u001B[39;00m:\n\u001B[32m    258\u001B[39m     \u001B[38;5;28mself\u001B[39m._closed_flag = \u001B[38;5;28;01mTrue\u001B[39;00m\n\u001B[32m--> \u001B[39m\u001B[32m259\u001B[39m     \u001B[43mUtil\u001B[49m\u001B[43m.\u001B[49m\u001B[43mcallback\u001B[49m\u001B[43m(\u001B[49m\u001B[38;5;28;43mself\u001B[39;49m\u001B[43m.\u001B[49m\u001B[43m_on_closed\u001B[49m\u001B[43m)\u001B[49m\n",
      "\u001B[36mFile \u001B[39m\u001B[32mD:\\IDMC\\M2\\graphs\\grah_protein\\.venv\\Lib\\site-packages\\neo4j\\_async_compat\\util.py:117\u001B[39m, in \u001B[36mUtil.callback\u001B[39m\u001B[34m(cb, *args, **kwargs)\u001B[39m\n\u001B[32m    114\u001B[39m \u001B[38;5;129m@staticmethod\u001B[39m\n\u001B[32m    115\u001B[39m \u001B[38;5;28;01mdef\u001B[39;00m\u001B[38;5;250m \u001B[39m\u001B[34mcallback\u001B[39m(cb, *args, **kwargs):\n\u001B[32m    116\u001B[39m     \u001B[38;5;28;01mif\u001B[39;00m \u001B[38;5;28mcallable\u001B[39m(cb):\n\u001B[32m--> \u001B[39m\u001B[32m117\u001B[39m         \u001B[38;5;28;01mreturn\u001B[39;00m \u001B[43mcb\u001B[49m\u001B[43m(\u001B[49m\u001B[43m*\u001B[49m\u001B[43margs\u001B[49m\u001B[43m,\u001B[49m\u001B[43m \u001B[49m\u001B[43m*\u001B[49m\u001B[43m*\u001B[49m\u001B[43mkwargs\u001B[49m\u001B[43m)\u001B[49m\n\u001B[32m    118\u001B[39m     \u001B[38;5;28;01mreturn\u001B[39;00m \u001B[38;5;28;01mNone\u001B[39;00m\n",
      "\u001B[36mFile \u001B[39m\u001B[32mD:\\IDMC\\M2\\graphs\\grah_protein\\.venv\\Lib\\site-packages\\neo4j\\_sync\\work\\session.py:421\u001B[39m, in \u001B[36mSession._transaction_closed_handler\u001B[39m\u001B[34m(self)\u001B[39m\n\u001B[32m    419\u001B[39m \u001B[38;5;28mself\u001B[39m._update_bookmark(\u001B[38;5;28mself\u001B[39m._transaction._bookmark)\n\u001B[32m    420\u001B[39m \u001B[38;5;28mself\u001B[39m._transaction = \u001B[38;5;28;01mNone\u001B[39;00m\n\u001B[32m--> \u001B[39m\u001B[32m421\u001B[39m \u001B[38;5;28;43mself\u001B[39;49m\u001B[43m.\u001B[49m\u001B[43m_disconnect\u001B[49m\u001B[43m(\u001B[49m\u001B[43m)\u001B[49m\n",
      "\u001B[36mFile \u001B[39m\u001B[32mD:\\IDMC\\M2\\graphs\\grah_protein\\.venv\\Lib\\site-packages\\neo4j\\_sync\\work\\session.py:145\u001B[39m, in \u001B[36mSession._disconnect\u001B[39m\u001B[34m(self, sync)\u001B[39m\n\u001B[32m    143\u001B[39m \u001B[38;5;28;01mdef\u001B[39;00m\u001B[38;5;250m \u001B[39m\u001B[34m_disconnect\u001B[39m(\u001B[38;5;28mself\u001B[39m, sync=\u001B[38;5;28;01mFalse\u001B[39;00m):\n\u001B[32m    144\u001B[39m     \u001B[38;5;28;01mtry\u001B[39;00m:\n\u001B[32m--> \u001B[39m\u001B[32m145\u001B[39m         \u001B[38;5;28;01mreturn\u001B[39;00m \u001B[38;5;28;43msuper\u001B[39;49m\u001B[43m(\u001B[49m\u001B[43m)\u001B[49m\u001B[43m.\u001B[49m\u001B[43m_disconnect\u001B[49m\u001B[43m(\u001B[49m\u001B[43msync\u001B[49m\u001B[43m=\u001B[49m\u001B[43msync\u001B[49m\u001B[43m)\u001B[49m\n\u001B[32m    146\u001B[39m     \u001B[38;5;28;01mexcept\u001B[39;00m asyncio.CancelledError:\n\u001B[32m    147\u001B[39m         \u001B[38;5;28mself\u001B[39m._handle_cancellation(message=\u001B[33m\"\u001B[39m\u001B[33m_disconnect\u001B[39m\u001B[33m\"\u001B[39m)\n",
      "\u001B[36mFile \u001B[39m\u001B[32mD:\\IDMC\\M2\\graphs\\grah_protein\\.venv\\Lib\\site-packages\\neo4j\\_sync\\work\\workspace.py:298\u001B[39m, in \u001B[36mWorkspace._disconnect\u001B[39m\u001B[34m(self, sync)\u001B[39m\n\u001B[32m    296\u001B[39m         \u001B[38;5;28;01mpass\u001B[39;00m\n\u001B[32m    297\u001B[39m \u001B[38;5;28;01mif\u001B[39;00m \u001B[38;5;28mself\u001B[39m._connection:\n\u001B[32m--> \u001B[39m\u001B[32m298\u001B[39m     \u001B[38;5;28;43mself\u001B[39;49m\u001B[43m.\u001B[49m\u001B[43m_pool\u001B[49m\u001B[43m.\u001B[49m\u001B[43mrelease\u001B[49m\u001B[43m(\u001B[49m\u001B[38;5;28;43mself\u001B[39;49m\u001B[43m.\u001B[49m\u001B[43m_connection\u001B[49m\u001B[43m)\u001B[49m\n\u001B[32m    299\u001B[39m     \u001B[38;5;28mself\u001B[39m._connection = \u001B[38;5;28;01mNone\u001B[39;00m\n\u001B[32m    300\u001B[39m \u001B[38;5;28mself\u001B[39m._connection_access_mode = \u001B[38;5;28;01mNone\u001B[39;00m\n",
      "\u001B[36mFile \u001B[39m\u001B[32mD:\\IDMC\\M2\\graphs\\grah_protein\\.venv\\Lib\\site-packages\\neo4j\\_sync\\io\\_pool.py:481\u001B[39m, in \u001B[36mIOPool.release\u001B[39m\u001B[34m(self, *connections)\u001B[39m\n\u001B[32m    475\u001B[39m \u001B[38;5;28;01mtry\u001B[39;00m:\n\u001B[32m    476\u001B[39m     log.debug(\n\u001B[32m    477\u001B[39m         \u001B[33m\"\u001B[39m\u001B[33m[#\u001B[39m\u001B[38;5;132;01m%04X\u001B[39;00m\u001B[33m]  _: <POOL> release unclean connection \u001B[39m\u001B[38;5;132;01m%s\u001B[39;00m\u001B[33m\"\u001B[39m,\n\u001B[32m    478\u001B[39m         connection.local_port,\n\u001B[32m    479\u001B[39m         connection.connection_id,\n\u001B[32m    480\u001B[39m     )\n\u001B[32m--> \u001B[39m\u001B[32m481\u001B[39m     \u001B[43mconnection\u001B[49m\u001B[43m.\u001B[49m\u001B[43mreset\u001B[49m\u001B[43m(\u001B[49m\u001B[43m)\u001B[49m\n\u001B[32m    482\u001B[39m \u001B[38;5;28;01mexcept\u001B[39;00m (Neo4jError, DriverError, BoltError) \u001B[38;5;28;01mas\u001B[39;00m exc:\n\u001B[32m    483\u001B[39m     log.debug(\n\u001B[32m    484\u001B[39m         \u001B[33m\"\u001B[39m\u001B[33m[#\u001B[39m\u001B[38;5;132;01m%04X\u001B[39;00m\u001B[33m]  _: <POOL> failed to reset connection \u001B[39m\u001B[33m\"\u001B[39m\n\u001B[32m    485\u001B[39m         \u001B[33m\"\u001B[39m\u001B[33mon release: \u001B[39m\u001B[38;5;132;01m%r\u001B[39;00m\u001B[33m\"\u001B[39m,\n\u001B[32m    486\u001B[39m         connection.local_port,\n\u001B[32m    487\u001B[39m         exc,\n\u001B[32m    488\u001B[39m     )\n",
      "\u001B[36mFile \u001B[39m\u001B[32mD:\\IDMC\\M2\\graphs\\grah_protein\\.venv\\Lib\\site-packages\\neo4j\\_sync\\io\\_bolt5.py:447\u001B[39m, in \u001B[36mBolt5x0.reset\u001B[39m\u001B[34m(self, dehydration_hooks, hydration_hooks)\u001B[39m\n\u001B[32m    443\u001B[39m \u001B[38;5;28mself\u001B[39m._append(\n\u001B[32m    444\u001B[39m     \u001B[33mb\u001B[39m\u001B[33m\"\u001B[39m\u001B[38;5;130;01m\\x0f\u001B[39;00m\u001B[33m\"\u001B[39m, response=response, dehydration_hooks=dehydration_hooks\n\u001B[32m    445\u001B[39m )\n\u001B[32m    446\u001B[39m \u001B[38;5;28mself\u001B[39m.send_all()\n\u001B[32m--> \u001B[39m\u001B[32m447\u001B[39m \u001B[38;5;28;43mself\u001B[39;49m\u001B[43m.\u001B[49m\u001B[43mfetch_all\u001B[49m\u001B[43m(\u001B[49m\u001B[43m)\u001B[49m\n",
      "\u001B[36mFile \u001B[39m\u001B[32mD:\\IDMC\\M2\\graphs\\grah_protein\\.venv\\Lib\\site-packages\\neo4j\\_sync\\io\\_bolt.py:879\u001B[39m, in \u001B[36mBolt.fetch_all\u001B[39m\u001B[34m(self)\u001B[39m\n\u001B[32m    877\u001B[39m response = \u001B[38;5;28mself\u001B[39m.responses[\u001B[32m0\u001B[39m]\n\u001B[32m    878\u001B[39m \u001B[38;5;28;01mwhile\u001B[39;00m \u001B[38;5;129;01mnot\u001B[39;00m response.complete:\n\u001B[32m--> \u001B[39m\u001B[32m879\u001B[39m     detail_delta, summary_delta = \u001B[38;5;28;43mself\u001B[39;49m\u001B[43m.\u001B[49m\u001B[43mfetch_message\u001B[49m\u001B[43m(\u001B[49m\u001B[43m)\u001B[49m\n\u001B[32m    880\u001B[39m     detail_count += detail_delta\n\u001B[32m    881\u001B[39m     summary_count += summary_delta\n",
      "\u001B[36mFile \u001B[39m\u001B[32mD:\\IDMC\\M2\\graphs\\grah_protein\\.venv\\Lib\\site-packages\\neo4j\\_sync\\io\\_bolt.py:861\u001B[39m, in \u001B[36mBolt.fetch_message\u001B[39m\u001B[34m(self)\u001B[39m\n\u001B[32m    858\u001B[39m     \u001B[38;5;28;01mreturn\u001B[39;00m \u001B[32m0\u001B[39m, \u001B[32m0\u001B[39m\n\u001B[32m    860\u001B[39m \u001B[38;5;66;03m# Receive exactly one message\u001B[39;00m\n\u001B[32m--> \u001B[39m\u001B[32m861\u001B[39m tag, fields = \u001B[38;5;28;43mself\u001B[39;49m\u001B[43m.\u001B[49m\u001B[43minbox\u001B[49m\u001B[43m.\u001B[49m\u001B[43mpop\u001B[49m\u001B[43m(\u001B[49m\n\u001B[32m    862\u001B[39m \u001B[43m    \u001B[49m\u001B[43mhydration_hooks\u001B[49m\u001B[43m=\u001B[49m\u001B[38;5;28;43mself\u001B[39;49m\u001B[43m.\u001B[49m\u001B[43mresponses\u001B[49m\u001B[43m[\u001B[49m\u001B[32;43m0\u001B[39;49m\u001B[43m]\u001B[49m\u001B[43m.\u001B[49m\u001B[43mhydration_hooks\u001B[49m\n\u001B[32m    863\u001B[39m \u001B[43m\u001B[49m\u001B[43m)\u001B[49m\n\u001B[32m    864\u001B[39m res = \u001B[38;5;28mself\u001B[39m._process_message(tag, fields)\n\u001B[32m    865\u001B[39m \u001B[38;5;28mself\u001B[39m.idle_since = monotonic()\n",
      "\u001B[36mFile \u001B[39m\u001B[32mD:\\IDMC\\M2\\graphs\\grah_protein\\.venv\\Lib\\site-packages\\neo4j\\_sync\\io\\_common.py:77\u001B[39m, in \u001B[36mInbox.pop\u001B[39m\u001B[34m(self, hydration_hooks)\u001B[39m\n\u001B[32m     76\u001B[39m \u001B[38;5;28;01mdef\u001B[39;00m\u001B[38;5;250m \u001B[39m\u001B[34mpop\u001B[39m(\u001B[38;5;28mself\u001B[39m, hydration_hooks):\n\u001B[32m---> \u001B[39m\u001B[32m77\u001B[39m     \u001B[38;5;28;43mself\u001B[39;49m\u001B[43m.\u001B[49m\u001B[43m_buffer_one_chunk\u001B[49m\u001B[43m(\u001B[49m\u001B[43m)\u001B[49m\n\u001B[32m     78\u001B[39m     \u001B[38;5;28;01mtry\u001B[39;00m:\n\u001B[32m     79\u001B[39m         size, tag = \u001B[38;5;28mself\u001B[39m._unpacker.unpack_structure_header()\n",
      "\u001B[36mFile \u001B[39m\u001B[32mD:\\IDMC\\M2\\graphs\\grah_protein\\.venv\\Lib\\site-packages\\neo4j\\_sync\\io\\_common.py:59\u001B[39m, in \u001B[36mInbox._buffer_one_chunk\u001B[39m\u001B[34m(self)\u001B[39m\n\u001B[32m     56\u001B[39m     \u001B[38;5;28;01mif\u001B[39;00m chunk_size == \u001B[32m0\u001B[39m:\n\u001B[32m     57\u001B[39m         log.debug(\u001B[33m\"\u001B[39m\u001B[33m[#\u001B[39m\u001B[38;5;132;01m%04X\u001B[39;00m\u001B[33m]  S: <NOOP>\u001B[39m\u001B[33m\"\u001B[39m, \u001B[38;5;28mself\u001B[39m._local_port)\n\u001B[32m---> \u001B[39m\u001B[32m59\u001B[39m \u001B[43mreceive_into_buffer\u001B[49m\u001B[43m(\u001B[49m\n\u001B[32m     60\u001B[39m \u001B[43m    \u001B[49m\u001B[38;5;28;43mself\u001B[39;49m\u001B[43m.\u001B[49m\u001B[43m_socket\u001B[49m\u001B[43m,\u001B[49m\u001B[43m \u001B[49m\u001B[38;5;28;43mself\u001B[39;49m\u001B[43m.\u001B[49m\u001B[43m_buffer\u001B[49m\u001B[43m,\u001B[49m\u001B[43m \u001B[49m\u001B[43mchunk_size\u001B[49m\u001B[43m \u001B[49m\u001B[43m+\u001B[49m\u001B[43m \u001B[49m\u001B[32;43m2\u001B[39;49m\n\u001B[32m     61\u001B[39m \u001B[43m\u001B[49m\u001B[43m)\u001B[49m\n\u001B[32m     62\u001B[39m chunk_size = \u001B[38;5;28mself\u001B[39m._buffer.pop_u16()\n\u001B[32m     64\u001B[39m \u001B[38;5;28;01mif\u001B[39;00m chunk_size == \u001B[32m0\u001B[39m:\n\u001B[32m     65\u001B[39m     \u001B[38;5;66;03m# chunk_size was the end marker for the message\u001B[39;00m\n",
      "\u001B[36mFile \u001B[39m\u001B[32mD:\\IDMC\\M2\\graphs\\grah_protein\\.venv\\Lib\\site-packages\\neo4j\\_sync\\io\\_common.py:342\u001B[39m, in \u001B[36mreceive_into_buffer\u001B[39m\u001B[34m(sock, buffer, n_bytes)\u001B[39m\n\u001B[32m    340\u001B[39m end = buffer.used + n_bytes\n\u001B[32m    341\u001B[39m \u001B[38;5;28;01mif\u001B[39;00m end > \u001B[38;5;28mlen\u001B[39m(buffer.data):\n\u001B[32m--> \u001B[39m\u001B[32m342\u001B[39m     \u001B[43mbuffer\u001B[49m\u001B[43m.\u001B[49m\u001B[43mdata\u001B[49m\u001B[43m \u001B[49m\u001B[43m+\u001B[49m\u001B[43m=\u001B[49m\u001B[43m \u001B[49m\u001B[38;5;28;43mbytearray\u001B[39;49m\u001B[43m(\u001B[49m\u001B[43mend\u001B[49m\u001B[43m \u001B[49m\u001B[43m-\u001B[49m\u001B[43m \u001B[49m\u001B[38;5;28;43mlen\u001B[39;49m\u001B[43m(\u001B[49m\u001B[43mbuffer\u001B[49m\u001B[43m.\u001B[49m\u001B[43mdata\u001B[49m\u001B[43m)\u001B[49m\u001B[43m)\u001B[49m\n\u001B[32m    343\u001B[39m \u001B[38;5;28;01mwith\u001B[39;00m \u001B[38;5;28mmemoryview\u001B[39m(buffer.data) \u001B[38;5;28;01mas\u001B[39;00m view:\n\u001B[32m    344\u001B[39m     \u001B[38;5;28;01mwhile\u001B[39;00m buffer.used < end:\n",
      "\u001B[31mBufferError\u001B[39m: Existing exports of data: object cannot be re-sized"
     ]
    }
   ],
   "execution_count": 15
  },
  {
   "metadata": {
    "ExecuteTime": {
     "end_time": "2025-03-14T16:01:26.513373Z",
     "start_time": "2025-03-14T16:01:24.451779Z"
    }
   },
   "cell_type": "code",
   "source": [
    "# step 3\n",
    "from neo4j import GraphDatabase\n",
    "\n",
    "# Настройки подключения к Neo4j\n",
    "URI = \"bolt://localhost:7687\"\n",
    "AUTH = (\"neo4j\", \"12345678\")\n",
    "\n",
    "driver = GraphDatabase.driver(URI, auth=AUTH)\n",
    "\n",
    "# Функция для расчёта весов EC-меток и выбора наилучшей метки для неразмеченного белка\n",
    "def annotate_protein(tx, entry_id, similarity_threshold=0.2):\n",
    "    # Найти соседей и их метки\n",
    "    query = \"\"\"\n",
    "    MATCH (p:Protein {entry: $entry_id})-[r:SIMILARITY]-(neighbor)\n",
    "    WHERE r.weight >= $threshold AND neighbor.ec_number IS NOT NULL\n",
    "    RETURN neighbor.ec_number AS ec, r.weight AS weight\n",
    "    \"\"\"\n",
    "    result = tx.run(query, entry_id=entry_id, threshold=similarity_threshold)\n",
    "\n",
    "    ec_weights = {}\n",
    "\n",
    "    # Расчёт суммарных весов для каждой метки\n",
    "    for record in result:\n",
    "        ec = record[\"ec\"]\n",
    "        weight = record[\"weight\"]\n",
    "        if ec in ec_weights:\n",
    "            ec_weights[ec] += weight\n",
    "        else:\n",
    "            ec_weights[ec] = weight\n",
    "\n",
    "    # Если соседи с метками найдены, выбираем метку с максимальным весом\n",
    "    if ec_weights:\n",
    "        best_ec = max(ec_weights, key=ec_weights.get)\n",
    "        # Обновляем белок выбранной меткой\n",
    "        update_query = \"\"\"\n",
    "        MATCH (p:Protein {entry: $entry_id})\n",
    "        SET p.ec_number = $ec\n",
    "        RETURN p.entry, p.ec_number\n",
    "        \"\"\"\n",
    "        updated = tx.run(update_query, entry_id=entry_id, ec=best_ec)\n",
    "        return updated.single()\n",
    "    else:\n",
    "        return None\n",
    "\n",
    "\n",
    "# Использование функции с конкретным белком\n",
    "protein_to_annotate = 'A0A024R1X5'  # Замени на белок, который хочешь аннотировать\n",
    "\n",
    "with driver.session() as session:\n",
    "    annotation_result = session.execute_write(annotate_protein, protein_to_annotate)\n",
    "\n",
    "    if annotation_result:\n",
    "        print(f\"Белок {annotation_result['p.entry']} успешно аннотирован как {annotation_result['p.ec_number']}\")\n",
    "    else:\n",
    "        print(f\"Недостаточно данных для аннотации белка {protein_to_annotate}\")\n",
    "\n",
    "driver.close()\n"
   ],
   "id": "21ae140823752720",
   "outputs": [
    {
     "name": "stdout",
     "output_type": "stream",
     "text": [
      "Недостаточно данных для аннотации белка A0A024R1X5\n"
     ]
    }
   ],
   "execution_count": 21
  },
  {
   "metadata": {
    "ExecuteTime": {
     "end_time": "2025-03-14T14:23:11.214580Z",
     "start_time": "2025-03-14T14:23:11.208289Z"
    }
   },
   "cell_type": "code",
   "source": [
    "annotated_count = sample_data['EC number'].notnull().sum()\n",
    "annotated_proportion = annotated_proportion = annotated_count / len(sample_data)\n",
    "annotated_count, annotated_proportion\n"
   ],
   "id": "6e3b9468dc11fc7a",
   "outputs": [
    {
     "data": {
      "text/plain": [
       "(np.int64(422), np.float64(0.422))"
      ]
     },
     "execution_count": 11,
     "metadata": {},
     "output_type": "execute_result"
    }
   ],
   "execution_count": 11
  },
  {
   "metadata": {
    "ExecuteTime": {
     "end_time": "2025-03-14T14:27:08.348513Z",
     "start_time": "2025-03-14T14:25:58.984156Z"
    }
   },
   "cell_type": "code",
   "source": [
    "# Построим новую выборку из 10 000 записей\n",
    "new_sample_data = protein_data_final.head(10000).reset_index(drop=True)\n",
    "\n",
    "# Строим граф заново\n",
    "protein_graph_large = nx.Graph()\n",
    "\n",
    "# Добавляем узлы с атрибутами\n",
    "for idx, row in new_sample_data.iterrows():\n",
    "    protein_graph_large.add_node(row['Entry'], \n",
    "                                 entry_name=row['Entry Name'],\n",
    "                                 protein_names=row['Protein names'],\n",
    "                                 gene_names=row['Gene Names'],\n",
    "                                 ec_number=row['EC number'],\n",
    "                                 interpro_domains=set(row['InterPro_list']))\n",
    "\n",
    "# Порог сходства\n",
    "similarity_threshold = 0.3\n",
    "\n",
    "# Рассчитаем ребра по коэффициенту Жаккара\n",
    "for (u, v) in tqdm(combinations(new_sample_data['Entry'], 2), total=(len(new_sample_data)*(len(new_sample_data)-1)//2)):\n",
    "    domains_u = protein_graph_large.nodes[u]['interpro_domains']\n",
    "    domains_v = protein_graph_large.nodes[v]['interpro_domains']\n",
    "    \n",
    "    intersection = len(domains_u.intersection(domains_v))\n",
    "    union = len(domains_u.union(domains_v))\n",
    "    jaccard_similarity = intersection / union if union else 0\n",
    "\n",
    "    if jaccard_similarity >= similarity_threshold:\n",
    "        protein_graph_large.add_edge(u, v, weight=jaccard_similarity)\n",
    "\n",
    "# Краткая статистика по графу\n",
    "graph_large_info = {\n",
    "    'Количество узлов': protein_graph_large.number_of_nodes(),\n",
    "    'Количество рёбер': protein_graph_large.number_of_edges()\n",
    "}\n",
    "\n",
    "graph_large_info\n"
   ],
   "id": "47122174adf420ef",
   "outputs": [
    {
     "name": "stderr",
     "output_type": "stream",
     "text": [
      "100%|██████████| 49995000/49995000 [01:08<00:00, 728047.91it/s]\n"
     ]
    },
    {
     "data": {
      "text/plain": [
       "{'Количество узлов': 10000, 'Количество рёбер': 175079}"
      ]
     },
     "execution_count": 12,
     "metadata": {},
     "output_type": "execute_result"
    }
   ],
   "execution_count": 12
  },
  {
   "metadata": {
    "ExecuteTime": {
     "end_time": "2025-03-14T15:36:26.558324Z",
     "start_time": "2025-03-14T15:36:26.533946Z"
    }
   },
   "cell_type": "code",
   "source": [
    "# Правильная замена NaN на None перед загрузкой\n",
    "import numpy as np\n",
    "\n",
    "protein_data_final_large['EC number'] = protein_data_final_large['EC number'].replace({np.nan: None, 'NaN': None})\n",
    "\n",
    "# Теперь подготовь данные к загрузке:\n",
    "data_to_load = protein_data_final_large.to_dict(\"records\")\n"
   ],
   "id": "816297a01a102b62",
   "outputs": [
    {
     "ename": "NameError",
     "evalue": "name 'protein_data_final_large' is not defined",
     "output_type": "error",
     "traceback": [
      "\u001B[31m---------------------------------------------------------------------------\u001B[39m",
      "\u001B[31mNameError\u001B[39m                                 Traceback (most recent call last)",
      "\u001B[36mCell\u001B[39m\u001B[36m \u001B[39m\u001B[32mIn[17]\u001B[39m\u001B[32m, line 4\u001B[39m\n\u001B[32m      1\u001B[39m \u001B[38;5;66;03m# Правильная замена NaN на None перед загрузкой\u001B[39;00m\n\u001B[32m      2\u001B[39m \u001B[38;5;28;01mimport\u001B[39;00m\u001B[38;5;250m \u001B[39m\u001B[34;01mnumpy\u001B[39;00m\u001B[38;5;250m \u001B[39m\u001B[38;5;28;01mas\u001B[39;00m\u001B[38;5;250m \u001B[39m\u001B[34;01mnp\u001B[39;00m\n\u001B[32m----> \u001B[39m\u001B[32m4\u001B[39m protein_data_final_large[\u001B[33m'\u001B[39m\u001B[33mEC number\u001B[39m\u001B[33m'\u001B[39m] = \u001B[43mprotein_data_final_large\u001B[49m[\u001B[33m'\u001B[39m\u001B[33mEC number\u001B[39m\u001B[33m'\u001B[39m].replace({np.nan: \u001B[38;5;28;01mNone\u001B[39;00m, \u001B[33m'\u001B[39m\u001B[33mNaN\u001B[39m\u001B[33m'\u001B[39m: \u001B[38;5;28;01mNone\u001B[39;00m})\n\u001B[32m      6\u001B[39m \u001B[38;5;66;03m# Теперь подготовь данные к загрузке:\u001B[39;00m\n\u001B[32m      7\u001B[39m data_to_load = protein_data_final_large.to_dict(\u001B[33m\"\u001B[39m\u001B[33mrecords\u001B[39m\u001B[33m\"\u001B[39m)\n",
      "\u001B[31mNameError\u001B[39m: name 'protein_data_final_large' is not defined"
     ]
    }
   ],
   "execution_count": 17
  }
 ],
 "metadata": {
  "kernelspec": {
   "display_name": "Python 3",
   "language": "python",
   "name": "python3"
  },
  "language_info": {
   "codemirror_mode": {
    "name": "ipython",
    "version": 2
   },
   "file_extension": ".py",
   "mimetype": "text/x-python",
   "name": "python",
   "nbconvert_exporter": "python",
   "pygments_lexer": "ipython2",
   "version": "2.7.6"
  }
 },
 "nbformat": 4,
 "nbformat_minor": 5
}
